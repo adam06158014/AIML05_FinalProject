{
 "cells": [
  {
   "cell_type": "code",
   "execution_count": 2,
   "metadata": {},
   "outputs": [
    {
     "name": "stdout",
     "output_type": "stream",
     "text": [
      "Requirement already satisfied: flask in c:\\users\\user\\anaconda3\\envs\\py_39_cv\\lib\\site-packages (3.0.3)\n",
      "Requirement already satisfied: Werkzeug>=3.0.0 in c:\\users\\user\\anaconda3\\envs\\py_39_cv\\lib\\site-packages (from flask) (3.0.3)\n",
      "Requirement already satisfied: Jinja2>=3.1.2 in c:\\users\\user\\anaconda3\\envs\\py_39_cv\\lib\\site-packages (from flask) (3.1.3)\n",
      "Requirement already satisfied: itsdangerous>=2.1.2 in c:\\users\\user\\anaconda3\\envs\\py_39_cv\\lib\\site-packages (from flask) (2.2.0)\n",
      "Requirement already satisfied: click>=8.1.3 in c:\\users\\user\\anaconda3\\envs\\py_39_cv\\lib\\site-packages (from flask) (8.1.7)\n",
      "Requirement already satisfied: blinker>=1.6.2 in c:\\users\\user\\anaconda3\\envs\\py_39_cv\\lib\\site-packages (from flask) (1.8.2)\n",
      "Requirement already satisfied: importlib-metadata>=3.6.0 in c:\\users\\user\\anaconda3\\envs\\py_39_cv\\lib\\site-packages (from flask) (7.0.1)\n",
      "Requirement already satisfied: colorama in c:\\users\\user\\anaconda3\\envs\\py_39_cv\\lib\\site-packages (from click>=8.1.3->flask) (0.4.6)\n",
      "Requirement already satisfied: zipp>=0.5 in c:\\users\\user\\anaconda3\\envs\\py_39_cv\\lib\\site-packages (from importlib-metadata>=3.6.0->flask) (3.17.0)\n",
      "Requirement already satisfied: MarkupSafe>=2.0 in c:\\users\\user\\anaconda3\\envs\\py_39_cv\\lib\\site-packages (from Jinja2>=3.1.2->flask) (2.1.3)\n"
     ]
    }
   ],
   "source": [
    "!pip install flask"
   ]
  },
  {
   "cell_type": "code",
   "execution_count": 10,
   "metadata": {},
   "outputs": [
    {
     "name": "stdout",
     "output_type": "stream",
     "text": [
      " * Serving Flask app '__main__'\n",
      " * Debug mode: off\n"
     ]
    },
    {
     "name": "stderr",
     "output_type": "stream",
     "text": [
      "WARNING: This is a development server. Do not use it in a production deployment. Use a production WSGI server instead.\n",
      " * Running on all addresses (0.0.0.0)\n",
      " * Running on http://127.0.0.1:5000\n",
      " * Running on http://192.168.24.138:5000\n",
      "Press CTRL+C to quit\n",
      "192.168.54.126 - - [14/Jun/2024 14:33:40] \"POST /data HTTP/1.1\" 200 -\n"
     ]
    },
    {
     "name": "stdout",
     "output_type": "stream",
     "text": [
      "<class 'dict'>\n",
      "{'senderDepartment': '101', 'recipientDepartment': '102'}\n"
     ]
    },
    {
     "name": "stderr",
     "output_type": "stream",
     "text": [
      "192.168.54.126 - - [14/Jun/2024 14:33:55] \"POST /data HTTP/1.1\" 200 -\n"
     ]
    },
    {
     "name": "stdout",
     "output_type": "stream",
     "text": [
      "<class 'dict'>\n",
      "{'senderDepartment': '101', 'recipientDepartment': '102'}\n"
     ]
    }
   ],
   "source": [
    "from flask import Flask, jsonify, request\n",
    "import requests\n",
    "\n",
    "app = Flask(__name__)\n",
    "\n",
    "@app.route('/')\n",
    "def home():\n",
    "    return \"Welcome to the Flask app!\"\n",
    "\n",
    "@app.route('/send', methods=['POST'])\n",
    "def send_message():\n",
    "\n",
    "    message = {\n",
    "        \"name\": \"John\",\n",
    "        \"message\": \"Hello, World!\"\n",
    "    }\n",
    "\n",
    "    headers = {'Content-Type': 'application/json'}\n",
    "    response = requests.post(\"http://127.0.0.1:5000/receive\", json=message, headers=headers)\n",
    "\n",
    "    return jsonify({\"status\": \"Message sent\", \"response\": response.json()})\n",
    "\n",
    "@app.route('/data', methods=['POST'])\n",
    "def receive_message():\n",
    "    data = request.get_json()\n",
    "\n",
    "    return jsonify({\"status\": \"Message received\", \"data\": data})\n",
    "\n",
    "\n",
    "\n",
    "if __name__ == \"__main__\":\n",
    "    app.run(host='0.0.0.0', port = 5000)"
   ]
  }
 ],
 "metadata": {
  "kernelspec": {
   "display_name": "py_39_cv",
   "language": "python",
   "name": "python3"
  },
  "language_info": {
   "codemirror_mode": {
    "name": "ipython",
    "version": 3
   },
   "file_extension": ".py",
   "mimetype": "text/x-python",
   "name": "python",
   "nbconvert_exporter": "python",
   "pygments_lexer": "ipython3",
   "version": "3.9.19"
  }
 },
 "nbformat": 4,
 "nbformat_minor": 2
}
